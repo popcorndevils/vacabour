{
 "cells": [
  {
   "cell_type": "code",
   "execution_count": 1,
   "id": "d52cd99b-1689-4942-add6-32a1845ce35b",
   "metadata": {},
   "outputs": [],
   "source": [
    "from vocabour import Vocabour"
   ]
  },
  {
   "cell_type": "code",
   "execution_count": 2,
   "id": "115ef8eb-e9b7-4f98-8d63-ec7d6abc7ac9",
   "metadata": {},
   "outputs": [],
   "source": [
    "app = Vocabour()"
   ]
  },
  {
   "cell_type": "code",
   "execution_count": 3,
   "id": "1a5d21d7-9740-4aca-9d4e-52a8b604ee21",
   "metadata": {},
   "outputs": [
    {
     "data": {
      "application/vnd.jupyter.widget-view+json": {
       "model_id": "7dfb694d6b4a44bd8e64f82b66f3f7fe",
       "version_major": 2,
       "version_minor": 0
      },
      "text/plain": [
       "Vocabour(children=(Accordion(children=(VBox(children=(Button(description='Glossary', style=ButtonStyle()),)), …"
      ]
     },
     "metadata": {},
     "output_type": "display_data"
    }
   ],
   "source": [
    "app"
   ]
  }
 ],
 "metadata": {
  "kernelspec": {
   "display_name": "Python 3 (ipykernel)",
   "language": "python",
   "name": "python3"
  },
  "language_info": {
   "codemirror_mode": {
    "name": "ipython",
    "version": 3
   },
   "file_extension": ".py",
   "mimetype": "text/x-python",
   "name": "python",
   "nbconvert_exporter": "python",
   "pygments_lexer": "ipython3",
   "version": "3.9.7"
  },
  "vscode": {
   "interpreter": {
    "hash": "b30854326b2b7b06929e16e4e6dd90678f5aafa7e3b4cacc55061dd5da682d74"
   }
  }
 },
 "nbformat": 4,
 "nbformat_minor": 5
}
