{
 "cells": [
  {
   "cell_type": "code",
   "execution_count": 1,
   "id": "d52cd99b-1689-4942-add6-32a1845ce35b",
   "metadata": {},
   "outputs": [],
   "source": [
    "from vocabour import Vocabour"
   ]
  },
  {
   "cell_type": "code",
   "execution_count": 2,
   "id": "115ef8eb-e9b7-4f98-8d63-ec7d6abc7ac9",
   "metadata": {},
   "outputs": [],
   "source": [
    "app = Vocabour()"
   ]
  },
  {
   "cell_type": "code",
   "execution_count": 3,
   "id": "7466722b-39bf-44ea-a944-a831cfd164da",
   "metadata": {},
   "outputs": [],
   "source": [
    "app.load_vocab(\"data/\", batch = True)"
   ]
  },
  {
   "cell_type": "code",
   "execution_count": 4,
   "id": "1a5d21d7-9740-4aca-9d4e-52a8b604ee21",
   "metadata": {},
   "outputs": [
    {
     "data": {
      "application/vnd.jupyter.widget-view+json": {
       "model_id": "da858b37850f41fc86351e1b20e34015",
       "version_major": 2,
       "version_minor": 0
      },
      "text/plain": [
       "Vocabour(children=(SelectMultiple(options=('*', 'full'), value=()), Button(description='BEGIN', style=ButtonSt…"
      ]
     },
     "metadata": {},
     "output_type": "display_data"
    }
   ],
   "source": [
    "app"
   ]
  }
 ],
 "metadata": {
  "kernelspec": {
   "display_name": "Python 3 (ipykernel)",
   "language": "python",
   "name": "python3"
  },
  "language_info": {
   "codemirror_mode": {
    "name": "ipython",
    "version": 3
   },
   "file_extension": ".py",
   "mimetype": "text/x-python",
   "name": "python",
   "nbconvert_exporter": "python",
   "pygments_lexer": "ipython3",
   "version": "3.9.7"
  }
 },
 "nbformat": 4,
 "nbformat_minor": 5
}
